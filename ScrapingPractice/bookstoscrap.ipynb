{
 "cells": [
  {
   "cell_type": "code",
   "execution_count": 17,
   "id": "b876cc61",
   "metadata": {},
   "outputs": [],
   "source": [
    "from bs4 import BeautifulSoup as bs\n",
    "import requests\n",
    "import re\n",
    "import pandas as pd\n",
    "url = \"http://books.toscrape.com\"\n",
    "response = requests.get(url)\n",
    "response = response.content\n",
    "soup = bs(response)\n",
    "ol = soup.find('ol')\n",
    "articles = ol.find_all('article', class_=\"product_pod\")"
   ]
  },
  {
   "cell_type": "code",
   "execution_count": 18,
   "id": "5ae572da",
   "metadata": {},
   "outputs": [
    {
     "name": "stdout",
     "output_type": "stream",
     "text": [
      "[['A Light in the Attic', 'Three', 51.77, 'In Stock.', 'catalogue/a-light-in-the-attic_1000/index.html'], ['Tipping the Velvet', 'One', 53.74, 'In Stock.', 'catalogue/tipping-the-velvet_999/index.html'], ['Soumission', 'One', 50.1, 'In Stock.', 'catalogue/soumission_998/index.html'], ['Sharp Objects', 'Four', 47.82, 'In Stock.', 'catalogue/sharp-objects_997/index.html'], ['Sapiens: A Brief History of Humankind', 'Five', 54.23, 'In Stock.', 'catalogue/sapiens-a-brief-history-of-humankind_996/index.html'], ['The Requiem Red', 'One', 22.65, 'In Stock.', 'catalogue/the-requiem-red_995/index.html'], ['The Dirty Little Secrets of Getting Your Dream Job', 'Four', 33.34, 'In Stock.', 'catalogue/the-dirty-little-secrets-of-getting-your-dream-job_994/index.html'], ['The Coming Woman: A Novel Based on the Life of the Infamous Feminist, Victoria Woodhull', 'Three', 17.93, 'In Stock.', 'catalogue/the-coming-woman-a-novel-based-on-the-life-of-the-infamous-feminist-victoria-woodhull_993/index.html'], ['The Boys in the Boat: Nine Americans and Their Epic Quest for Gold at the 1936 Berlin Olympics', 'Four', 22.6, 'In Stock.', 'catalogue/the-boys-in-the-boat-nine-americans-and-their-epic-quest-for-gold-at-the-1936-berlin-olympics_992/index.html'], ['The Black Maria', 'One', 52.15, 'In Stock.', 'catalogue/the-black-maria_991/index.html'], ['Starving Hearts (Triangular Trade Trilogy, #1)', 'Two', 13.99, 'In Stock.', 'catalogue/starving-hearts-triangular-trade-trilogy-1_990/index.html'], [\"Shakespeare's Sonnets\", 'Four', 20.66, 'In Stock.', 'catalogue/shakespeares-sonnets_989/index.html'], ['Set Me Free', 'Five', 17.46, 'In Stock.', 'catalogue/set-me-free_988/index.html'], [\"Scott Pilgrim's Precious Little Life (Scott Pilgrim #1)\", 'Five', 52.29, 'In Stock.', 'catalogue/scott-pilgrims-precious-little-life-scott-pilgrim-1_987/index.html'], ['Rip it Up and Start Again', 'Five', 35.02, 'In Stock.', 'catalogue/rip-it-up-and-start-again_986/index.html'], ['Our Band Could Be Your Life: Scenes from the American Indie Underground, 1981-1991', 'Three', 57.25, 'In Stock.', 'catalogue/our-band-could-be-your-life-scenes-from-the-american-indie-underground-1981-1991_985/index.html'], ['Olio', 'One', 23.88, 'In Stock.', 'catalogue/olio_984/index.html'], ['Mesaerion: The Best Science Fiction Stories 1800-1849', 'One', 37.59, 'In Stock.', 'catalogue/mesaerion-the-best-science-fiction-stories-1800-1849_983/index.html'], ['Libertarianism for Beginners', 'Two', 51.33, 'In Stock.', 'catalogue/libertarianism-for-beginners_982/index.html'], [\"It's Only the Himalayas\", 'Two', 45.17, 'In Stock.', 'catalogue/its-only-the-himalayas_981/index.html']]\n"
     ]
    }
   ],
   "source": [
    "books=[]\n",
    "for article in articles:\n",
    "    a_tag = article.find('h3').find('a')\n",
    "    b_hreflink = a_tag['href']\n",
    "    image = article.find('img')\n",
    "    b_title = image.attrs['alt']\n",
    "    star = article.find('p')\n",
    "    b_rating = star['class'][1]\n",
    "    price = article.find('p', class_='price_color').text\n",
    "    b_price = float(price[1:])\n",
    "    instock_element = soup.find('p', class_='instock availability')\n",
    "    if instock_element and \"In stock\" in instock_element.get_text():\n",
    "        b_stock = \"In Stock.\"\n",
    "    else:\n",
    "        b_stock = \"Not in Stock\"\n",
    "\n",
    "    books.append([b_title, b_rating, b_price, b_stock, b_hreflink])\n",
    "    \n",
    "print(books)  \n",
    "     "
   ]
  },
  {
   "cell_type": "code",
   "execution_count": 30,
   "id": "19cae6de",
   "metadata": {},
   "outputs": [],
   "source": []
  },
  {
   "cell_type": "code",
   "execution_count": 27,
   "id": "b83920a9",
   "metadata": {},
   "outputs": [],
   "source": []
  },
  {
   "cell_type": "code",
   "execution_count": null,
   "id": "15e46da0",
   "metadata": {},
   "outputs": [],
   "source": []
  }
 ],
 "metadata": {
  "kernelspec": {
   "display_name": "Python 3 (ipykernel)",
   "language": "python",
   "name": "python3"
  },
  "language_info": {
   "codemirror_mode": {
    "name": "ipython",
    "version": 3
   },
   "file_extension": ".py",
   "mimetype": "text/x-python",
   "name": "python",
   "nbconvert_exporter": "python",
   "pygments_lexer": "ipython3",
   "version": "3.11.4"
  }
 },
 "nbformat": 4,
 "nbformat_minor": 5
}
