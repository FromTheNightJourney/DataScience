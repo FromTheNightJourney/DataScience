{
 "cells": [
  {
   "cell_type": "code",
   "execution_count": 6,
   "id": "90ceb047",
   "metadata": {},
   "outputs": [
    {
     "name": "stdout",
     "output_type": "stream",
     "text": [
      "['Boston Bruins', '1990', '44', '24', '0.55']\n",
      "['Buffalo Sabres', '1990', '31', '30', '0.388']\n",
      "['Calgary Flames', '1990', '46', '26', '0.575']\n",
      "['Chicago Blackhawks', '1990', '49', '23', '0.613']\n",
      "['Detroit Red Wings', '1990', '34', '38', '0.425']\n",
      "['Edmonton Oilers', '1990', '37', '37', '0.463']\n",
      "['Hartford Whalers', '1990', '31', '38', '0.388']\n",
      "['Los Angeles Kings', '1990', '46', '24', '0.575']\n",
      "['Minnesota North Stars', '1990', '27', '39', '0.338']\n",
      "['Montreal Canadiens', '1990', '39', '30', '0.487']\n",
      "['New Jersey Devils', '1990', '32', '33', '0.4']\n",
      "['New York Islanders', '1990', '25', '45', '0.312']\n",
      "['New York Rangers', '1990', '36', '31', '0.45']\n",
      "['Philadelphia Flyers', '1990', '33', '37', '0.412']\n",
      "['Pittsburgh Penguins', '1990', '41', '33', '0.512']\n",
      "['Quebec Nordiques', '1990', '16', '50', '0.2']\n",
      "['St. Louis Blues', '1990', '47', '22', '0.588']\n",
      "['Toronto Maple Leafs', '1990', '23', '46', '0.287']\n",
      "['Vancouver Canucks', '1990', '28', '43', '0.35']\n",
      "['Washington Capitals', '1990', '37', '36', '0.463']\n",
      "['Winnipeg Jets', '1990', '26', '43', '0.325']\n",
      "['Boston Bruins', '1991', '36', '32', '0.45']\n",
      "['Buffalo Sabres', '1991', '31', '37', '0.388']\n",
      "['Calgary Flames', '1991', '31', '37', '0.388']\n",
      "['Chicago Blackhawks', '1991', '36', '29', '0.45']\n"
     ]
    }
   ],
   "source": [
    "import requests\n",
    "from bs4 import BeautifulSoup\n",
    "url = 'http://www.scrapethissite.com/pages/forms/'  \n",
    "\n",
    "response = requests.get(url)\n",
    "\n",
    "soup = BeautifulSoup(response.text, 'html.parser')\n",
    "team_elements = soup.find_all('tr', class_='team')\n",
    "    \n",
    "hockey_list = []\n",
    "\n",
    "for team_element in team_elements:\n",
    "    name = team_element.find('td', class_='name').get_text(strip=True)\n",
    "    year = team_element.find('td', class_='year').get_text(strip=True)\n",
    "    wins = team_element.find('td', class_='wins').get_text(strip=True)\n",
    "    losses = team_element.find('td', class_='losses').get_text(strip=True)\n",
    "    win_percent = team_element.find('td', class_='pct').get_text(strip=True)\n",
    "        \n",
    "    temp_data = [name, year, wins, losses, win_percent]\n",
    "    hockey_list.append(temp_data)\n",
    "    \n",
    "for i in hockey_list:\n",
    "    print(temp_data)\n"
   ]
  },
  {
   "cell_type": "code",
   "execution_count": null,
   "id": "e2103049",
   "metadata": {},
   "outputs": [],
   "source": [
    "df = pd.DataFrame(hockey_list, columns = ['Team','Year','Wins','Losses','Win%'])\n",
    "df.to_csv('HockeyTeamData')"
   ]
  }
 ],
 "metadata": {
  "kernelspec": {
   "display_name": "Python 3 (ipykernel)",
   "language": "python",
   "name": "python3"
  },
  "language_info": {
   "codemirror_mode": {
    "name": "ipython",
    "version": 3
   },
   "file_extension": ".py",
   "mimetype": "text/x-python",
   "name": "python",
   "nbconvert_exporter": "python",
   "pygments_lexer": "ipython3",
   "version": "3.11.4"
  }
 },
 "nbformat": 4,
 "nbformat_minor": 5
}
