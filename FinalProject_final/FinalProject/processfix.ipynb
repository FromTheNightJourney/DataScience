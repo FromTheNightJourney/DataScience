{
 "cells": [
  {
   "cell_type": "code",
   "execution_count": 49,
   "metadata": {},
   "outputs": [
    {
     "name": "stdout",
     "output_type": "stream",
     "text": [
      "DataFrame with 'kda' column saved to csv/500andKDA.csv\n"
     ]
    }
   ],
   "source": [
    "import pandas as pd\n",
    "\n",
    "# Read data from the CSV file\n",
    "file_path = 'csv/500KDAfix.csv'\n",
    "df = pd.read_csv(file_path)\n",
    "\n",
    "# Calculate the 'kda' column\n",
    "df['kda'] = round((df['kills'] + df['assists']) / df['deaths'],2)\n",
    "\n",
    "# Save the DataFrame to a new CSV file\n",
    "output_file_path = 'csv/500andKDA.csv'\n",
    "df.to_csv(output_file_path, index=False)\n",
    "\n",
    "print(f\"DataFrame with 'kda' column saved to {output_file_path}\")\n"
   ]
  },
  {
   "cell_type": "code",
   "execution_count": null,
   "metadata": {},
   "outputs": [],
   "source": []
  }
 ],
 "metadata": {
  "kernelspec": {
   "display_name": "Python 3",
   "language": "python",
   "name": "python3"
  },
  "language_info": {
   "name": "python",
   "version": "3.10.11"
  }
 },
 "nbformat": 4,
 "nbformat_minor": 2
}
